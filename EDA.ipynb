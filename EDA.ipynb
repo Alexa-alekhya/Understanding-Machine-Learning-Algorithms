{
  "nbformat": 4,
  "nbformat_minor": 0,
  "metadata": {
    "colab": {
      "provenance": []
    },
    "kernelspec": {
      "name": "python3",
      "display_name": "Python 3"
    },
    "language_info": {
      "name": "python"
    }
  },
  "cells": [
    {
      "cell_type": "code",
      "execution_count": 17,
      "metadata": {
        "id": "WlDajy1zXwnh"
      },
      "outputs": [],
      "source": [
        "import numpy as np\n",
        "import matplotlib.pyplot as plt\n",
        "import pandas as pd\n",
        "import os\n",
        "import seaborn as sns"
      ]
    },
    {
      "cell_type": "code",
      "source": [
        "dataset = pd.read_csv('Top_Influencers.csv')\n",
        "X = dataset.iloc[:, :-1].values\n",
        "y = dataset.iloc[:, -1].values"
      ],
      "metadata": {
        "id": "VEyf5REUX1qw"
      },
      "execution_count": 2,
      "outputs": []
    },
    {
      "cell_type": "code",
      "source": [
        "print(X)"
      ],
      "metadata": {
        "colab": {
          "base_uri": "https://localhost:8080/"
        },
        "id": "wnfrH2ZtYBEy",
        "outputId": "498d6c94-cada-4c44-f68a-8151a2e8684c"
      },
      "execution_count": 3,
      "outputs": [
        {
          "output_type": "stream",
          "name": "stdout",
          "text": [
            "[[1 '\\ncristiano' 92 ... 0.013 '6.3m' '29.1b']\n",
            " [2 'kyliejenner' 91 ... 0.014 '5.0m' '57.4b']\n",
            " [3 '\\nleomessi' 90 ... 0.01 '3.5m' '6.1b']\n",
            " ...\n",
            " [198 '\\nraisa6690' 80 ... 0.003 '103.2k' '955.9m']\n",
            " [199 '\\nluansantana' 79 ... 0.003 '82.6k' '167.2m']\n",
            " [200 '\\nnancyajram' 81 ... 0.004 '128.2k' '1.5b']]\n"
          ]
        }
      ]
    },
    {
      "cell_type": "code",
      "source": [
        "print(y)"
      ],
      "metadata": {
        "colab": {
          "base_uri": "https://localhost:8080/"
        },
        "id": "Ujb13PzDYDEb",
        "outputId": "bdb74e51-41f1-4dd3-b452-868b1666fcc3"
      },
      "execution_count": 4,
      "outputs": [
        {
          "output_type": "stream",
          "name": "stdout",
          "text": [
            "['Spain' 'United States' nan 'United States' 'United States'\n",
            " 'United States' 'United States' 'United States' 'United States' 'Canada'\n",
            " 'United States' 'United States' 'United States' 'United States'\n",
            " 'United States' nan 'United States' 'United States' nan 'Brazil' nan\n",
            " 'United States' 'United States' 'United States' 'United States'\n",
            " 'United States' nan 'Spain' 'United States' 'Netherlands' 'United States'\n",
            " nan nan 'United States' 'United Kingdom' 'United States' 'United States'\n",
            " 'United States' nan nan nan 'United States' 'United States' nan\n",
            " 'United States' nan 'India' 'India' 'United States' nan 'Canada' 'India'\n",
            " 'India' 'Brazil' nan 'Uruguay' 'United States' 'India' 'Turkey'\n",
            " 'United States' 'United States' nan 'Indonesia' 'India' nan nan\n",
            " 'United States' 'United States' 'Colombia' 'France' 'United Kingdom' nan\n",
            " 'Brazil' 'Brazil' 'United States' 'Spain' 'United States' 'India'\n",
            " 'Australia' nan 'France' 'United States' nan 'United Kingdom' nan 'India'\n",
            " 'Brazil' nan 'United States' nan 'United States' 'United States' nan nan\n",
            " 'Indonesia' 'Netherlands' nan 'United States' nan 'India' 'United States'\n",
            " 'United States' 'Colombia' nan 'United States' 'Indonesia' nan 'Italy'\n",
            " nan 'France' 'United States' nan nan 'United Arab Emirates' nan\n",
            " 'United States' 'United States' 'Brazil' 'United States' 'United States'\n",
            " nan 'United States' 'United States' 'Puerto Rico' 'United States' nan\n",
            " 'United States' 'Brazil' nan nan 'India' nan \"Côte d'Ivoire\" 'Brazil' nan\n",
            " 'Colombia' 'Spain' 'United States' nan nan 'United States' 'Anguilla'\n",
            " 'Turkey' 'Brazil' nan nan 'Switzerland' 'Brazil' nan 'Indonesia'\n",
            " 'United Kingdom' 'United States' 'Indonesia' 'Spain' nan nan nan\n",
            " 'United States' 'United States' nan 'United States' nan nan 'Sweden' nan\n",
            " nan nan nan 'Indonesia' nan 'France' 'United States'\n",
            " 'British Virgin Islands' nan 'Czech Republic' 'Mexico' nan 'India'\n",
            " 'United States' nan 'Brazil' nan nan 'United States' 'Brazil' nan\n",
            " 'Mexico' 'United States' 'United States' nan 'France' 'Germany'\n",
            " 'United States' nan 'India' 'Russia' 'Canada' 'Indonesia' 'Brazil'\n",
            " 'France']\n"
          ]
        }
      ]
    },
    {
      "cell_type": "code",
      "source": [
        "from sklearn.impute import SimpleImputer\n",
        "imputer = SimpleImputer(missing_values=np.nan, strategy='most_frequent')\n",
        "imputer.fit(X[:, 1:3])\n",
        "X[:, 1:3] = imputer.transform(X[:, 1:3])"
      ],
      "metadata": {
        "id": "jEZ3ryWFYY2I"
      },
      "execution_count": 5,
      "outputs": []
    },
    {
      "cell_type": "code",
      "source": [
        "print(X)"
      ],
      "metadata": {
        "colab": {
          "base_uri": "https://localhost:8080/"
        },
        "id": "SUnRnCWMYfMc",
        "outputId": "f7085c96-ec84-473e-b1cc-57ce821c8beb"
      },
      "execution_count": 6,
      "outputs": [
        {
          "output_type": "stream",
          "name": "stdout",
          "text": [
            "[[1 '\\ncristiano' 92 ... 0.013 '6.3m' '29.1b']\n",
            " [2 'kyliejenner' 91 ... 0.014 '5.0m' '57.4b']\n",
            " [3 '\\nleomessi' 90 ... 0.01 '3.5m' '6.1b']\n",
            " ...\n",
            " [198 '\\nraisa6690' 80 ... 0.003 '103.2k' '955.9m']\n",
            " [199 '\\nluansantana' 79 ... 0.003 '82.6k' '167.2m']\n",
            " [200 '\\nnancyajram' 81 ... 0.004 '128.2k' '1.5b']]\n"
          ]
        }
      ]
    },
    {
      "cell_type": "code",
      "source": [
        "dataset[\"Channel Info\"] = dataset[\"Channel Info\"].astype('category')\n",
        "dataset.dtypes"
      ],
      "metadata": {
        "colab": {
          "base_uri": "https://localhost:8080/"
        },
        "id": "g4KOZiqmbGIB",
        "outputId": "e8161450-a136-4cec-8a2e-68a00e6b0857"
      },
      "execution_count": 7,
      "outputs": [
        {
          "output_type": "execute_result",
          "data": {
            "text/plain": [
              "Rank                      int64\n",
              "Channel Info           category\n",
              "Influence Score           int64\n",
              "Followers                object\n",
              "Avg. Likes               object\n",
              "Posts                    object\n",
              "60-Day Eng Rate         float64\n",
              "New Post Avg. Likes      object\n",
              "Total Likes              object\n",
              "Country Or Region        object\n",
              "dtype: object"
            ]
          },
          "metadata": {},
          "execution_count": 7
        }
      ]
    },
    {
      "cell_type": "code",
      "source": [],
      "metadata": {
        "id": "2dzv9PXjbrjg"
      },
      "execution_count": 7,
      "outputs": []
    },
    {
      "cell_type": "code",
      "source": [
        "dataset['Channel Info'] = dataset['Channel Info'].cat.codes.astype('category')"
      ],
      "metadata": {
        "id": "BV9mQ4BQbZIv"
      },
      "execution_count": 8,
      "outputs": []
    },
    {
      "cell_type": "code",
      "source": [
        "dataset.head()"
      ],
      "metadata": {
        "colab": {
          "base_uri": "https://localhost:8080/",
          "height": 206
        },
        "id": "nH-BI3utdhka",
        "outputId": "c2766e7a-a3e5-47bd-af30-92084d225ab1"
      },
      "execution_count": 9,
      "outputs": [
        {
          "output_type": "execute_result",
          "data": {
            "text/plain": [
              "   Rank Channel Info  Influence Score Followers Avg. Likes Posts  \\\n",
              "0     1           35               92    485.2m       8.7m  3.4k   \n",
              "1     2          199               91    370.7m       8.2m  7.0k   \n",
              "2     3          101               90    363.9m       6.7m   915   \n",
              "3     4          158               93    348.8m       6.1m  1.9k   \n",
              "4     5          175               91    339.4m       1.8m  6.8k   \n",
              "\n",
              "   60-Day Eng Rate New Post Avg. Likes Total Likes Country Or Region  \n",
              "0            0.013                6.3m       29.1b             Spain  \n",
              "1            0.014                5.0m       57.4b     United States  \n",
              "2            0.010                3.5m        6.1b               NaN  \n",
              "3            0.005                1.7m       11.4b     United States  \n",
              "4            0.003              932.0k       12.6b     United States  "
            ],
            "text/html": [
              "\n",
              "  <div id=\"df-b7631073-9ae0-4f12-8f38-5939b51121d1\">\n",
              "    <div class=\"colab-df-container\">\n",
              "      <div>\n",
              "<style scoped>\n",
              "    .dataframe tbody tr th:only-of-type {\n",
              "        vertical-align: middle;\n",
              "    }\n",
              "\n",
              "    .dataframe tbody tr th {\n",
              "        vertical-align: top;\n",
              "    }\n",
              "\n",
              "    .dataframe thead th {\n",
              "        text-align: right;\n",
              "    }\n",
              "</style>\n",
              "<table border=\"1\" class=\"dataframe\">\n",
              "  <thead>\n",
              "    <tr style=\"text-align: right;\">\n",
              "      <th></th>\n",
              "      <th>Rank</th>\n",
              "      <th>Channel Info</th>\n",
              "      <th>Influence Score</th>\n",
              "      <th>Followers</th>\n",
              "      <th>Avg. Likes</th>\n",
              "      <th>Posts</th>\n",
              "      <th>60-Day Eng Rate</th>\n",
              "      <th>New Post Avg. Likes</th>\n",
              "      <th>Total Likes</th>\n",
              "      <th>Country Or Region</th>\n",
              "    </tr>\n",
              "  </thead>\n",
              "  <tbody>\n",
              "    <tr>\n",
              "      <th>0</th>\n",
              "      <td>1</td>\n",
              "      <td>35</td>\n",
              "      <td>92</td>\n",
              "      <td>485.2m</td>\n",
              "      <td>8.7m</td>\n",
              "      <td>3.4k</td>\n",
              "      <td>0.013</td>\n",
              "      <td>6.3m</td>\n",
              "      <td>29.1b</td>\n",
              "      <td>Spain</td>\n",
              "    </tr>\n",
              "    <tr>\n",
              "      <th>1</th>\n",
              "      <td>2</td>\n",
              "      <td>199</td>\n",
              "      <td>91</td>\n",
              "      <td>370.7m</td>\n",
              "      <td>8.2m</td>\n",
              "      <td>7.0k</td>\n",
              "      <td>0.014</td>\n",
              "      <td>5.0m</td>\n",
              "      <td>57.4b</td>\n",
              "      <td>United States</td>\n",
              "    </tr>\n",
              "    <tr>\n",
              "      <th>2</th>\n",
              "      <td>3</td>\n",
              "      <td>101</td>\n",
              "      <td>90</td>\n",
              "      <td>363.9m</td>\n",
              "      <td>6.7m</td>\n",
              "      <td>915</td>\n",
              "      <td>0.010</td>\n",
              "      <td>3.5m</td>\n",
              "      <td>6.1b</td>\n",
              "      <td>NaN</td>\n",
              "    </tr>\n",
              "    <tr>\n",
              "      <th>3</th>\n",
              "      <td>4</td>\n",
              "      <td>158</td>\n",
              "      <td>93</td>\n",
              "      <td>348.8m</td>\n",
              "      <td>6.1m</td>\n",
              "      <td>1.9k</td>\n",
              "      <td>0.005</td>\n",
              "      <td>1.7m</td>\n",
              "      <td>11.4b</td>\n",
              "      <td>United States</td>\n",
              "    </tr>\n",
              "    <tr>\n",
              "      <th>4</th>\n",
              "      <td>5</td>\n",
              "      <td>175</td>\n",
              "      <td>91</td>\n",
              "      <td>339.4m</td>\n",
              "      <td>1.8m</td>\n",
              "      <td>6.8k</td>\n",
              "      <td>0.003</td>\n",
              "      <td>932.0k</td>\n",
              "      <td>12.6b</td>\n",
              "      <td>United States</td>\n",
              "    </tr>\n",
              "  </tbody>\n",
              "</table>\n",
              "</div>\n",
              "      <button class=\"colab-df-convert\" onclick=\"convertToInteractive('df-b7631073-9ae0-4f12-8f38-5939b51121d1')\"\n",
              "              title=\"Convert this dataframe to an interactive table.\"\n",
              "              style=\"display:none;\">\n",
              "        \n",
              "  <svg xmlns=\"http://www.w3.org/2000/svg\" height=\"24px\"viewBox=\"0 0 24 24\"\n",
              "       width=\"24px\">\n",
              "    <path d=\"M0 0h24v24H0V0z\" fill=\"none\"/>\n",
              "    <path d=\"M18.56 5.44l.94 2.06.94-2.06 2.06-.94-2.06-.94-.94-2.06-.94 2.06-2.06.94zm-11 1L8.5 8.5l.94-2.06 2.06-.94-2.06-.94L8.5 2.5l-.94 2.06-2.06.94zm10 10l.94 2.06.94-2.06 2.06-.94-2.06-.94-.94-2.06-.94 2.06-2.06.94z\"/><path d=\"M17.41 7.96l-1.37-1.37c-.4-.4-.92-.59-1.43-.59-.52 0-1.04.2-1.43.59L10.3 9.45l-7.72 7.72c-.78.78-.78 2.05 0 2.83L4 21.41c.39.39.9.59 1.41.59.51 0 1.02-.2 1.41-.59l7.78-7.78 2.81-2.81c.8-.78.8-2.07 0-2.86zM5.41 20L4 18.59l7.72-7.72 1.47 1.35L5.41 20z\"/>\n",
              "  </svg>\n",
              "      </button>\n",
              "      \n",
              "  <style>\n",
              "    .colab-df-container {\n",
              "      display:flex;\n",
              "      flex-wrap:wrap;\n",
              "      gap: 12px;\n",
              "    }\n",
              "\n",
              "    .colab-df-convert {\n",
              "      background-color: #E8F0FE;\n",
              "      border: none;\n",
              "      border-radius: 50%;\n",
              "      cursor: pointer;\n",
              "      display: none;\n",
              "      fill: #1967D2;\n",
              "      height: 32px;\n",
              "      padding: 0 0 0 0;\n",
              "      width: 32px;\n",
              "    }\n",
              "\n",
              "    .colab-df-convert:hover {\n",
              "      background-color: #E2EBFA;\n",
              "      box-shadow: 0px 1px 2px rgba(60, 64, 67, 0.3), 0px 1px 3px 1px rgba(60, 64, 67, 0.15);\n",
              "      fill: #174EA6;\n",
              "    }\n",
              "\n",
              "    [theme=dark] .colab-df-convert {\n",
              "      background-color: #3B4455;\n",
              "      fill: #D2E3FC;\n",
              "    }\n",
              "\n",
              "    [theme=dark] .colab-df-convert:hover {\n",
              "      background-color: #434B5C;\n",
              "      box-shadow: 0px 1px 3px 1px rgba(0, 0, 0, 0.15);\n",
              "      filter: drop-shadow(0px 1px 2px rgba(0, 0, 0, 0.3));\n",
              "      fill: #FFFFFF;\n",
              "    }\n",
              "  </style>\n",
              "\n",
              "      <script>\n",
              "        const buttonEl =\n",
              "          document.querySelector('#df-b7631073-9ae0-4f12-8f38-5939b51121d1 button.colab-df-convert');\n",
              "        buttonEl.style.display =\n",
              "          google.colab.kernel.accessAllowed ? 'block' : 'none';\n",
              "\n",
              "        async function convertToInteractive(key) {\n",
              "          const element = document.querySelector('#df-b7631073-9ae0-4f12-8f38-5939b51121d1');\n",
              "          const dataTable =\n",
              "            await google.colab.kernel.invokeFunction('convertToInteractive',\n",
              "                                                     [key], {});\n",
              "          if (!dataTable) return;\n",
              "\n",
              "          const docLinkHtml = 'Like what you see? Visit the ' +\n",
              "            '<a target=\"_blank\" href=https://colab.research.google.com/notebooks/data_table.ipynb>data table notebook</a>'\n",
              "            + ' to learn more about interactive tables.';\n",
              "          element.innerHTML = '';\n",
              "          dataTable['output_type'] = 'display_data';\n",
              "          await google.colab.output.renderOutput(dataTable, element);\n",
              "          const docLink = document.createElement('div');\n",
              "          docLink.innerHTML = docLinkHtml;\n",
              "          element.appendChild(docLink);\n",
              "        }\n",
              "      </script>\n",
              "    </div>\n",
              "  </div>\n",
              "  "
            ]
          },
          "metadata": {},
          "execution_count": 9
        }
      ]
    },
    {
      "cell_type": "code",
      "source": [
        "dataset.dtypes"
      ],
      "metadata": {
        "colab": {
          "base_uri": "https://localhost:8080/"
        },
        "id": "EZBUYMU7drd9",
        "outputId": "2c726bfa-b3d7-4937-8722-adafd6c3858e"
      },
      "execution_count": 10,
      "outputs": [
        {
          "output_type": "execute_result",
          "data": {
            "text/plain": [
              "Rank                      int64\n",
              "Channel Info           category\n",
              "Influence Score           int64\n",
              "Followers                object\n",
              "Avg. Likes               object\n",
              "Posts                    object\n",
              "60-Day Eng Rate         float64\n",
              "New Post Avg. Likes      object\n",
              "Total Likes              object\n",
              "Country Or Region        object\n",
              "dtype: object"
            ]
          },
          "metadata": {},
          "execution_count": 10
        }
      ]
    },
    {
      "cell_type": "code",
      "source": [
        "#since this data set doesnt have any repeated values, we cant perform one hot encoding on this data set."
      ],
      "metadata": {
        "id": "jx3xkWDfdyBh"
      },
      "execution_count": 12,
      "outputs": []
    },
    {
      "cell_type": "code",
      "source": [
        "#DATA PREPROCESSING(CLEANING)"
      ],
      "metadata": {
        "id": "R2uqu0ObYhmK"
      },
      "execution_count": 14,
      "outputs": []
    },
    {
      "cell_type": "code",
      "source": [
        "dataset.nunique(axis=0) #Number of unique values in each column"
      ],
      "metadata": {
        "colab": {
          "base_uri": "https://localhost:8080/"
        },
        "id": "WcIL4RZNYnG2",
        "outputId": "32a44fa8-0e65-41d9-dfe6-1e5489dc88b4"
      },
      "execution_count": 15,
      "outputs": [
        {
          "output_type": "execute_result",
          "data": {
            "text/plain": [
              "Rank                   200\n",
              "Channel Info           200\n",
              "Influence Score         32\n",
              "Followers              172\n",
              "Avg. Likes             134\n",
              "Posts                  121\n",
              "60-Day Eng Rate         53\n",
              "New Post Avg. Likes    170\n",
              "Total Likes            116\n",
              "Country Or Region       25\n",
              "dtype: int64"
            ]
          },
          "metadata": {},
          "execution_count": 15
        }
      ]
    },
    {
      "cell_type": "code",
      "source": [
        "#c Plot a heatmap of the missing values in the dataset.\n",
        "sns.heatmap(dataset.isnull())\n",
        "plt.title(\"Missing values for each column\")\n",
        "sns.heatmap(dataset.isnull())\n",
        "plt.show()"
      ],
      "metadata": {
        "id": "oPh_oHoYd9b3",
        "colab": {
          "base_uri": "https://localhost:8080/",
          "height": 370
        },
        "outputId": "65ced46a-f101-46ef-acc2-69ab12196ec6"
      },
      "execution_count": 19,
      "outputs": [
        {
          "output_type": "display_data",
          "data": {
            "text/plain": [
              "<Figure size 432x288 with 3 Axes>"
            ],
            "image/png": "[encoded data removed]"
          },
          "metadata": {
            "needs_background": "light"
          }
        }
      ]
    },
    {
      "cell_type": "code",
      "source": [
        "#d Find the number of outliers in each numeric column and remove them.\n",
        "numerics = ['int16', 'int32', 'int64', 'float16', 'float32', 'float64']\n",
        "numeric_df = dataset.select_dtypes(include=numerics)\n",
        "numeric_df"
      ],
      "metadata": {
        "colab": {
          "base_uri": "https://localhost:8080/",
          "height": 423
        },
        "id": "awOy9CbR9uye",
        "outputId": "cff8af18-268f-43c3-ef9b-7b84b8de0822"
      },
      "execution_count": 21,
      "outputs": [
        {
          "output_type": "execute_result",
          "data": {
            "text/plain": [
              "     Rank  Influence Score  60-Day Eng Rate\n",
              "0       1               92            0.013\n",
              "1       2               91            0.014\n",
              "2       3               90            0.010\n",
              "3       4               93            0.005\n",
              "4       5               91            0.003\n",
              "..    ...              ...              ...\n",
              "195   196               63            0.009\n",
              "196   197               84            0.064\n",
              "197   198               80            0.003\n",
              "198   199               79            0.003\n",
              "199   200               81            0.004\n",
              "\n",
              "[200 rows x 3 columns]"
            ],
            "text/html": [
              "\n",
              "  <div id=\"df-a77652ee-d90c-4a12-9f29-4fbc379a374e\">\n",
              "    <div class=\"colab-df-container\">\n",
              "      <div>\n",
              "<style scoped>\n",
              "    .dataframe tbody tr th:only-of-type {\n",
              "        vertical-align: middle;\n",
              "    }\n",
              "\n",
              "    .dataframe tbody tr th {\n",
              "        vertical-align: top;\n",
              "    }\n",
              "\n",
              "    .dataframe thead th {\n",
              "        text-align: right;\n",
              "    }\n",
              "</style>\n",
              "<table border=\"1\" class=\"dataframe\">\n",
              "  <thead>\n",
              "    <tr style=\"text-align: right;\">\n",
              "      <th></th>\n",
              "      <th>Rank</th>\n",
              "      <th>Influence Score</th>\n",
              "      <th>60-Day Eng Rate</th>\n",
              "    </tr>\n",
              "  </thead>\n",
              "  <tbody>\n",
              "    <tr>\n",
              "      <th>0</th>\n",
              "      <td>1</td>\n",
              "      <td>92</td>\n",
              "      <td>0.013</td>\n",
              "    </tr>\n",
              "    <tr>\n",
              "      <th>1</th>\n",
              "      <td>2</td>\n",
              "      <td>91</td>\n",
              "      <td>0.014</td>\n",
              "    </tr>\n",
              "    <tr>\n",
              "      <th>2</th>\n",
              "      <td>3</td>\n",
              "      <td>90</td>\n",
              "      <td>0.010</td>\n",
              "    </tr>\n",
              "    <tr>\n",
              "      <th>3</th>\n",
              "      <td>4</td>\n",
              "      <td>93</td>\n",
              "      <td>0.005</td>\n",
              "    </tr>\n",
              "    <tr>\n",
              "      <th>4</th>\n",
              "      <td>5</td>\n",
              "      <td>91</td>\n",
              "      <td>0.003</td>\n",
              "    </tr>\n",
              "    <tr>\n",
              "      <th>...</th>\n",
              "      <td>...</td>\n",
              "      <td>...</td>\n",
              "      <td>...</td>\n",
              "    </tr>\n",
              "    <tr>\n",
              "      <th>195</th>\n",
              "      <td>196</td>\n",
              "      <td>63</td>\n",
              "      <td>0.009</td>\n",
              "    </tr>\n",
              "    <tr>\n",
              "      <th>196</th>\n",
              "      <td>197</td>\n",
              "      <td>84</td>\n",
              "      <td>0.064</td>\n",
              "    </tr>\n",
              "    <tr>\n",
              "      <th>197</th>\n",
              "      <td>198</td>\n",
              "      <td>80</td>\n",
              "      <td>0.003</td>\n",
              "    </tr>\n",
              "    <tr>\n",
              "      <th>198</th>\n",
              "      <td>199</td>\n",
              "      <td>79</td>\n",
              "      <td>0.003</td>\n",
              "    </tr>\n",
              "    <tr>\n",
              "      <th>199</th>\n",
              "      <td>200</td>\n",
              "      <td>81</td>\n",
              "      <td>0.004</td>\n",
              "    </tr>\n",
              "  </tbody>\n",
              "</table>\n",
              "<p>200 rows × 3 columns</p>\n",
              "</div>\n",
              "      <button class=\"colab-df-convert\" onclick=\"convertToInteractive('df-a77652ee-d90c-4a12-9f29-4fbc379a374e')\"\n",
              "              title=\"Convert this dataframe to an interactive table.\"\n",
              "              style=\"display:none;\">\n",
              "        \n",
              "  <svg xmlns=\"http://www.w3.org/2000/svg\" height=\"24px\"viewBox=\"0 0 24 24\"\n",
              "       width=\"24px\">\n",
              "    <path d=\"M0 0h24v24H0V0z\" fill=\"none\"/>\n",
              "    <path d=\"M18.56 5.44l.94 2.06.94-2.06 2.06-.94-2.06-.94-.94-2.06-.94 2.06-2.06.94zm-11 1L8.5 8.5l.94-2.06 2.06-.94-2.06-.94L8.5 2.5l-.94 2.06-2.06.94zm10 10l.94 2.06.94-2.06 2.06-.94-2.06-.94-.94-2.06-.94 2.06-2.06.94z\"/><path d=\"M17.41 7.96l-1.37-1.37c-.4-.4-.92-.59-1.43-.59-.52 0-1.04.2-1.43.59L10.3 9.45l-7.72 7.72c-.78.78-.78 2.05 0 2.83L4 21.41c.39.39.9.59 1.41.59.51 0 1.02-.2 1.41-.59l7.78-7.78 2.81-2.81c.8-.78.8-2.07 0-2.86zM5.41 20L4 18.59l7.72-7.72 1.47 1.35L5.41 20z\"/>\n",
              "  </svg>\n",
              "      </button>\n",
              "      \n",
              "  <style>\n",
              "    .colab-df-container {\n",
              "      display:flex;\n",
              "      flex-wrap:wrap;\n",
              "      gap: 12px;\n",
              "    }\n",
              "\n",
              "    .colab-df-convert {\n",
              "      background-color: #E8F0FE;\n",
              "      border: none;\n",
              "      border-radius: 50%;\n",
              "      cursor: pointer;\n",
              "      display: none;\n",
              "      fill: #1967D2;\n",
              "      height: 32px;\n",
              "      padding: 0 0 0 0;\n",
              "      width: 32px;\n",
              "    }\n",
              "\n",
              "    .colab-df-convert:hover {\n",
              "      background-color: #E2EBFA;\n",
              "      box-shadow: 0px 1px 2px rgba(60, 64, 67, 0.3), 0px 1px 3px 1px rgba(60, 64, 67, 0.15);\n",
              "      fill: #174EA6;\n",
              "    }\n",
              "\n",
              "    [theme=dark] .colab-df-convert {\n",
              "      background-color: #3B4455;\n",
              "      fill: #D2E3FC;\n",
              "    }\n",
              "\n",
              "    [theme=dark] .colab-df-convert:hover {\n",
              "      background-color: #434B5C;\n",
              "      box-shadow: 0px 1px 3px 1px rgba(0, 0, 0, 0.15);\n",
              "      filter: drop-shadow(0px 1px 2px rgba(0, 0, 0, 0.3));\n",
              "      fill: #FFFFFF;\n",
              "    }\n",
              "  </style>\n",
              "\n",
              "      <script>\n",
              "        const buttonEl =\n",
              "          document.querySelector('#df-a77652ee-d90c-4a12-9f29-4fbc379a374e button.colab-df-convert');\n",
              "        buttonEl.style.display =\n",
              "          google.colab.kernel.accessAllowed ? 'block' : 'none';\n",
              "\n",
              "        async function convertToInteractive(key) {\n",
              "          const element = document.querySelector('#df-a77652ee-d90c-4a12-9f29-4fbc379a374e');\n",
              "          const dataTable =\n",
              "            await google.colab.kernel.invokeFunction('convertToInteractive',\n",
              "                                                     [key], {});\n",
              "          if (!dataTable) return;\n",
              "\n",
              "          const docLinkHtml = 'Like what you see? Visit the ' +\n",
              "            '<a target=\"_blank\" href=https://colab.research.google.com/notebooks/data_table.ipynb>data table notebook</a>'\n",
              "            + ' to learn more about interactive tables.';\n",
              "          element.innerHTML = '';\n",
              "          dataTable['output_type'] = 'display_data';\n",
              "          await google.colab.output.renderOutput(dataTable, element);\n",
              "          const docLink = document.createElement('div');\n",
              "          docLink.innerHTML = docLinkHtml;\n",
              "          element.appendChild(docLink);\n",
              "        }\n",
              "      </script>\n",
              "    </div>\n",
              "  </div>\n",
              "  "
            ]
          },
          "metadata": {},
          "execution_count": 21
        }
      ]
    },
    {
      "cell_type": "code",
      "source": [
        "categorical_df = dataset.select_dtypes(include='object')\n",
        "categorical_df"
      ],
      "metadata": {
        "colab": {
          "base_uri": "https://localhost:8080/",
          "height": 423
        },
        "id": "M99tmUDV9-3S",
        "outputId": "df10832c-e6a8-4367-b67f-9c068c33d29e"
      },
      "execution_count": 22,
      "outputs": [
        {
          "output_type": "execute_result",
          "data": {
            "text/plain": [
              "    Followers Avg. Likes Posts New Post Avg. Likes Total Likes  \\\n",
              "0      485.2m       8.7m  3.4k                6.3m       29.1b   \n",
              "1      370.7m       8.2m  7.0k                5.0m       57.4b   \n",
              "2      363.9m       6.7m   915                3.5m        6.1b   \n",
              "3      348.8m       6.1m  1.9k                1.7m       11.4b   \n",
              "4      339.4m       1.8m  6.8k              932.0k       12.6b   \n",
              "..        ...        ...   ...                 ...         ...   \n",
              "195     33.6m     680.6k  4.6k              305.7k        3.1b   \n",
              "196     33.6m       2.2m  1.4k                2.1m        3.0b   \n",
              "197     33.6m     227.8k  4.2k              103.2k      955.9m   \n",
              "198     33.5m     193.3k   865               82.6k      167.2m   \n",
              "199     33.4m     382.5k  3.8k              128.2k        1.5b   \n",
              "\n",
              "    Country Or Region  \n",
              "0               Spain  \n",
              "1       United States  \n",
              "2                 NaN  \n",
              "3       United States  \n",
              "4       United States  \n",
              "..                ...  \n",
              "195            Russia  \n",
              "196            Canada  \n",
              "197         Indonesia  \n",
              "198            Brazil  \n",
              "199            France  \n",
              "\n",
              "[200 rows x 6 columns]"
            ],
            "text/html": [
              "\n",
              "  <div id=\"df-87325435-027e-4d48-9613-45d1a65d1170\">\n",
              "    <div class=\"colab-df-container\">\n",
              "      <div>\n",
              "<style scoped>\n",
              "    .dataframe tbody tr th:only-of-type {\n",
              "        vertical-align: middle;\n",
              "    }\n",
              "\n",
              "    .dataframe tbody tr th {\n",
              "        vertical-align: top;\n",
              "    }\n",
              "\n",
              "    .dataframe thead th {\n",
              "        text-align: right;\n",
              "    }\n",
              "</style>\n",
              "<table border=\"1\" class=\"dataframe\">\n",
              "  <thead>\n",
              "    <tr style=\"text-align: right;\">\n",
              "      <th></th>\n",
              "      <th>Followers</th>\n",
              "      <th>Avg. Likes</th>\n",
              "      <th>Posts</th>\n",
              "      <th>New Post Avg. Likes</th>\n",
              "      <th>Total Likes</th>\n",
              "      <th>Country Or Region</th>\n",
              "    </tr>\n",
              "  </thead>\n",
              "  <tbody>\n",
              "    <tr>\n",
              "      <th>0</th>\n",
              "      <td>485.2m</td>\n",
              "      <td>8.7m</td>\n",
              "      <td>3.4k</td>\n",
              "      <td>6.3m</td>\n",
              "      <td>29.1b</td>\n",
              "      <td>Spain</td>\n",
              "    </tr>\n",
              "    <tr>\n",
              "      <th>1</th>\n",
              "      <td>370.7m</td>\n",
              "      <td>8.2m</td>\n",
              "      <td>7.0k</td>\n",
              "      <td>5.0m</td>\n",
              "      <td>57.4b</td>\n",
              "      <td>United States</td>\n",
              "    </tr>\n",
              "    <tr>\n",
              "      <th>2</th>\n",
              "      <td>363.9m</td>\n",
              "      <td>6.7m</td>\n",
              "      <td>915</td>\n",
              "      <td>3.5m</td>\n",
              "      <td>6.1b</td>\n",
              "      <td>NaN</td>\n",
              "    </tr>\n",
              "    <tr>\n",
              "      <th>3</th>\n",
              "      <td>348.8m</td>\n",
              "      <td>6.1m</td>\n",
              "      <td>1.9k</td>\n",
              "      <td>1.7m</td>\n",
              "      <td>11.4b</td>\n",
              "      <td>United States</td>\n",
              "    </tr>\n",
              "    <tr>\n",
              "      <th>4</th>\n",
              "      <td>339.4m</td>\n",
              "      <td>1.8m</td>\n",
              "      <td>6.8k</td>\n",
              "      <td>932.0k</td>\n",
              "      <td>12.6b</td>\n",
              "      <td>United States</td>\n",
              "    </tr>\n",
              "    <tr>\n",
              "      <th>...</th>\n",
              "      <td>...</td>\n",
              "      <td>...</td>\n",
              "      <td>...</td>\n",
              "      <td>...</td>\n",
              "      <td>...</td>\n",
              "      <td>...</td>\n",
              "    </tr>\n",
              "    <tr>\n",
              "      <th>195</th>\n",
              "      <td>33.6m</td>\n",
              "      <td>680.6k</td>\n",
              "      <td>4.6k</td>\n",
              "      <td>305.7k</td>\n",
              "      <td>3.1b</td>\n",
              "      <td>Russia</td>\n",
              "    </tr>\n",
              "    <tr>\n",
              "      <th>196</th>\n",
              "      <td>33.6m</td>\n",
              "      <td>2.2m</td>\n",
              "      <td>1.4k</td>\n",
              "      <td>2.1m</td>\n",
              "      <td>3.0b</td>\n",
              "      <td>Canada</td>\n",
              "    </tr>\n",
              "    <tr>\n",
              "      <th>197</th>\n",
              "      <td>33.6m</td>\n",
              "      <td>227.8k</td>\n",
              "      <td>4.2k</td>\n",
              "      <td>103.2k</td>\n",
              "      <td>955.9m</td>\n",
              "      <td>Indonesia</td>\n",
              "    </tr>\n",
              "    <tr>\n",
              "      <th>198</th>\n",
              "      <td>33.5m</td>\n",
              "      <td>193.3k</td>\n",
              "      <td>865</td>\n",
              "      <td>82.6k</td>\n",
              "      <td>167.2m</td>\n",
              "      <td>Brazil</td>\n",
              "    </tr>\n",
              "    <tr>\n",
              "      <th>199</th>\n",
              "      <td>33.4m</td>\n",
              "      <td>382.5k</td>\n",
              "      <td>3.8k</td>\n",
              "      <td>128.2k</td>\n",
              "      <td>1.5b</td>\n",
              "      <td>France</td>\n",
              "    </tr>\n",
              "  </tbody>\n",
              "</table>\n",
              "<p>200 rows × 6 columns</p>\n",
              "</div>\n",
              "      <button class=\"colab-df-convert\" onclick=\"convertToInteractive('df-87325435-027e-4d48-9613-45d1a65d1170')\"\n",
              "              title=\"Convert this dataframe to an interactive table.\"\n",
              "              style=\"display:none;\">\n",
              "        \n",
              "  <svg xmlns=\"http://www.w3.org/2000/svg\" height=\"24px\"viewBox=\"0 0 24 24\"\n",
              "       width=\"24px\">\n",
              "    <path d=\"M0 0h24v24H0V0z\" fill=\"none\"/>\n",
              "    <path d=\"M18.56 5.44l.94 2.06.94-2.06 2.06-.94-2.06-.94-.94-2.06-.94 2.06-2.06.94zm-11 1L8.5 8.5l.94-2.06 2.06-.94-2.06-.94L8.5 2.5l-.94 2.06-2.06.94zm10 10l.94 2.06.94-2.06 2.06-.94-2.06-.94-.94-2.06-.94 2.06-2.06.94z\"/><path d=\"M17.41 7.96l-1.37-1.37c-.4-.4-.92-.59-1.43-.59-.52 0-1.04.2-1.43.59L10.3 9.45l-7.72 7.72c-.78.78-.78 2.05 0 2.83L4 21.41c.39.39.9.59 1.41.59.51 0 1.02-.2 1.41-.59l7.78-7.78 2.81-2.81c.8-.78.8-2.07 0-2.86zM5.41 20L4 18.59l7.72-7.72 1.47 1.35L5.41 20z\"/>\n",
              "  </svg>\n",
              "      </button>\n",
              "      \n",
              "  <style>\n",
              "    .colab-df-container {\n",
              "      display:flex;\n",
              "      flex-wrap:wrap;\n",
              "      gap: 12px;\n",
              "    }\n",
              "\n",
              "    .colab-df-convert {\n",
              "      background-color: #E8F0FE;\n",
              "      border: none;\n",
              "      border-radius: 50%;\n",
              "      cursor: pointer;\n",
              "      display: none;\n",
              "      fill: #1967D2;\n",
              "      height: 32px;\n",
              "      padding: 0 0 0 0;\n",
              "      width: 32px;\n",
              "    }\n",
              "\n",
              "    .colab-df-convert:hover {\n",
              "      background-color: #E2EBFA;\n",
              "      box-shadow: 0px 1px 2px rgba(60, 64, 67, 0.3), 0px 1px 3px 1px rgba(60, 64, 67, 0.15);\n",
              "      fill: #174EA6;\n",
              "    }\n",
              "\n",
              "    [theme=dark] .colab-df-convert {\n",
              "      background-color: #3B4455;\n",
              "      fill: #D2E3FC;\n",
              "    }\n",
              "\n",
              "    [theme=dark] .colab-df-convert:hover {\n",
              "      background-color: #434B5C;\n",
              "      box-shadow: 0px 1px 3px 1px rgba(0, 0, 0, 0.15);\n",
              "      filter: drop-shadow(0px 1px 2px rgba(0, 0, 0, 0.3));\n",
              "      fill: #FFFFFF;\n",
              "    }\n",
              "  </style>\n",
              "\n",
              "      <script>\n",
              "        const buttonEl =\n",
              "          document.querySelector('#df-87325435-027e-4d48-9613-45d1a65d1170 button.colab-df-convert');\n",
              "        buttonEl.style.display =\n",
              "          google.colab.kernel.accessAllowed ? 'block' : 'none';\n",
              "\n",
              "        async function convertToInteractive(key) {\n",
              "          const element = document.querySelector('#df-87325435-027e-4d48-9613-45d1a65d1170');\n",
              "          const dataTable =\n",
              "            await google.colab.kernel.invokeFunction('convertToInteractive',\n",
              "                                                     [key], {});\n",
              "          if (!dataTable) return;\n",
              "\n",
              "          const docLinkHtml = 'Like what you see? Visit the ' +\n",
              "            '<a target=\"_blank\" href=https://colab.research.google.com/notebooks/data_table.ipynb>data table notebook</a>'\n",
              "            + ' to learn more about interactive tables.';\n",
              "          element.innerHTML = '';\n",
              "          dataTable['output_type'] = 'display_data';\n",
              "          await google.colab.output.renderOutput(dataTable, element);\n",
              "          const docLink = document.createElement('div');\n",
              "          docLink.innerHTML = docLinkHtml;\n",
              "          element.appendChild(docLink);\n",
              "        }\n",
              "      </script>\n",
              "    </div>\n",
              "  </div>\n",
              "  "
            ]
          },
          "metadata": {},
          "execution_count": 22
        }
      ]
    },
    {
      "cell_type": "code",
      "source": [
        "for (columnName, columnData) in numeric_df.iteritems():\n",
        "   avg = columnData.mean()\n",
        "   std_dev = columnData.std()\n",
        "   print('Column Name : ', columnName)\n",
        "\n",
        "   print('Number of Outliers : ',((columnData < (avg - 2 * std_dev)) |(columnData > (avg + 2 * std_dev))).sum())\n",
        "   print(\".......................\")"
      ],
      "metadata": {
        "colab": {
          "base_uri": "https://localhost:8080/"
        },
        "id": "nm24FRVa-Ery",
        "outputId": "8bebe0f9-61d5-4f95-a9f1-8421d0c25128"
      },
      "execution_count": 24,
      "outputs": [
        {
          "output_type": "stream",
          "name": "stdout",
          "text": [
            "Column Name :  Rank\n",
            "Number of Outliers :  0\n",
            ".......................\n",
            "Column Name :  Influence Score\n",
            "Number of Outliers :  8\n",
            ".......................\n",
            "Column Name :  60-Day Eng Rate\n",
            "Number of Outliers :  9\n",
            ".......................\n"
          ]
        }
      ]
    },
    {
      "cell_type": "code",
      "source": [
        "avg = numeric_df.mean()\n",
        "std_dev = numeric_df.std()\n",
        "outlier_df = ((numeric_df < (avg - 2 * std_dev)) |(numeric_df > (avg + 2 * std_dev)))\n",
        "outlier_df"
      ],
      "metadata": {
        "colab": {
          "base_uri": "https://localhost:8080/",
          "height": 423
        },
        "id": "5O9UwdDw-Jah",
        "outputId": "74f6808d-1c91-4398-a7fa-9b222b3a1e11"
      },
      "execution_count": 25,
      "outputs": [
        {
          "output_type": "execute_result",
          "data": {
            "text/plain": [
              "      Rank  Influence Score  60-Day Eng Rate\n",
              "0    False            False            False\n",
              "1    False            False            False\n",
              "2    False            False            False\n",
              "3    False            False            False\n",
              "4    False            False            False\n",
              "..     ...              ...              ...\n",
              "195  False             True            False\n",
              "196  False            False            False\n",
              "197  False            False            False\n",
              "198  False            False            False\n",
              "199  False            False            False\n",
              "\n",
              "[200 rows x 3 columns]"
            ],
            "text/html": [
              "\n",
              "  <div id=\"df-ee44f981-2bab-497f-bb97-edf9c90151b3\">\n",
              "    <div class=\"colab-df-container\">\n",
              "      <div>\n",
              "<style scoped>\n",
              "    .dataframe tbody tr th:only-of-type {\n",
              "        vertical-align: middle;\n",
              "    }\n",
              "\n",
              "    .dataframe tbody tr th {\n",
              "        vertical-align: top;\n",
              "    }\n",
              "\n",
              "    .dataframe thead th {\n",
              "        text-align: right;\n",
              "    }\n",
              "</style>\n",
              "<table border=\"1\" class=\"dataframe\">\n",
              "  <thead>\n",
              "    <tr style=\"text-align: right;\">\n",
              "      <th></th>\n",
              "      <th>Rank</th>\n",
              "      <th>Influence Score</th>\n",
              "      <th>60-Day Eng Rate</th>\n",
              "    </tr>\n",
              "  </thead>\n",
              "  <tbody>\n",
              "    <tr>\n",
              "      <th>0</th>\n",
              "      <td>False</td>\n",
              "      <td>False</td>\n",
              "      <td>False</td>\n",
              "    </tr>\n",
              "    <tr>\n",
              "      <th>1</th>\n",
              "      <td>False</td>\n",
              "      <td>False</td>\n",
              "      <td>False</td>\n",
              "    </tr>\n",
              "    <tr>\n",
              "      <th>2</th>\n",
              "      <td>False</td>\n",
              "      <td>False</td>\n",
              "      <td>False</td>\n",
              "    </tr>\n",
              "    <tr>\n",
              "      <th>3</th>\n",
              "      <td>False</td>\n",
              "      <td>False</td>\n",
              "      <td>False</td>\n",
              "    </tr>\n",
              "    <tr>\n",
              "      <th>4</th>\n",
              "      <td>False</td>\n",
              "      <td>False</td>\n",
              "      <td>False</td>\n",
              "    </tr>\n",
              "    <tr>\n",
              "      <th>...</th>\n",
              "      <td>...</td>\n",
              "      <td>...</td>\n",
              "      <td>...</td>\n",
              "    </tr>\n",
              "    <tr>\n",
              "      <th>195</th>\n",
              "      <td>False</td>\n",
              "      <td>True</td>\n",
              "      <td>False</td>\n",
              "    </tr>\n",
              "    <tr>\n",
              "      <th>196</th>\n",
              "      <td>False</td>\n",
              "      <td>False</td>\n",
              "      <td>False</td>\n",
              "    </tr>\n",
              "    <tr>\n",
              "      <th>197</th>\n",
              "      <td>False</td>\n",
              "      <td>False</td>\n",
              "      <td>False</td>\n",
              "    </tr>\n",
              "    <tr>\n",
              "      <th>198</th>\n",
              "      <td>False</td>\n",
              "      <td>False</td>\n",
              "      <td>False</td>\n",
              "    </tr>\n",
              "    <tr>\n",
              "      <th>199</th>\n",
              "      <td>False</td>\n",
              "      <td>False</td>\n",
              "      <td>False</td>\n",
              "    </tr>\n",
              "  </tbody>\n",
              "</table>\n",
              "<p>200 rows × 3 columns</p>\n",
              "</div>\n",
              "      <button class=\"colab-df-convert\" onclick=\"convertToInteractive('df-ee44f981-2bab-497f-bb97-edf9c90151b3')\"\n",
              "              title=\"Convert this dataframe to an interactive table.\"\n",
              "              style=\"display:none;\">\n",
              "        \n",
              "  <svg xmlns=\"http://www.w3.org/2000/svg\" height=\"24px\"viewBox=\"0 0 24 24\"\n",
              "       width=\"24px\">\n",
              "    <path d=\"M0 0h24v24H0V0z\" fill=\"none\"/>\n",
              "    <path d=\"M18.56 5.44l.94 2.06.94-2.06 2.06-.94-2.06-.94-.94-2.06-.94 2.06-2.06.94zm-11 1L8.5 8.5l.94-2.06 2.06-.94-2.06-.94L8.5 2.5l-.94 2.06-2.06.94zm10 10l.94 2.06.94-2.06 2.06-.94-2.06-.94-.94-2.06-.94 2.06-2.06.94z\"/><path d=\"M17.41 7.96l-1.37-1.37c-.4-.4-.92-.59-1.43-.59-.52 0-1.04.2-1.43.59L10.3 9.45l-7.72 7.72c-.78.78-.78 2.05 0 2.83L4 21.41c.39.39.9.59 1.41.59.51 0 1.02-.2 1.41-.59l7.78-7.78 2.81-2.81c.8-.78.8-2.07 0-2.86zM5.41 20L4 18.59l7.72-7.72 1.47 1.35L5.41 20z\"/>\n",
              "  </svg>\n",
              "      </button>\n",
              "      \n",
              "  <style>\n",
              "    .colab-df-container {\n",
              "      display:flex;\n",
              "      flex-wrap:wrap;\n",
              "      gap: 12px;\n",
              "    }\n",
              "\n",
              "    .colab-df-convert {\n",
              "      background-color: #E8F0FE;\n",
              "      border: none;\n",
              "      border-radius: 50%;\n",
              "      cursor: pointer;\n",
              "      display: none;\n",
              "      fill: #1967D2;\n",
              "      height: 32px;\n",
              "      padding: 0 0 0 0;\n",
              "      width: 32px;\n",
              "    }\n",
              "\n",
              "    .colab-df-convert:hover {\n",
              "      background-color: #E2EBFA;\n",
              "      box-shadow: 0px 1px 2px rgba(60, 64, 67, 0.3), 0px 1px 3px 1px rgba(60, 64, 67, 0.15);\n",
              "      fill: #174EA6;\n",
              "    }\n",
              "\n",
              "    [theme=dark] .colab-df-convert {\n",
              "      background-color: #3B4455;\n",
              "      fill: #D2E3FC;\n",
              "    }\n",
              "\n",
              "    [theme=dark] .colab-df-convert:hover {\n",
              "      background-color: #434B5C;\n",
              "      box-shadow: 0px 1px 3px 1px rgba(0, 0, 0, 0.15);\n",
              "      filter: drop-shadow(0px 1px 2px rgba(0, 0, 0, 0.3));\n",
              "      fill: #FFFFFF;\n",
              "    }\n",
              "  </style>\n",
              "\n",
              "      <script>\n",
              "        const buttonEl =\n",
              "          document.querySelector('#df-ee44f981-2bab-497f-bb97-edf9c90151b3 button.colab-df-convert');\n",
              "        buttonEl.style.display =\n",
              "          google.colab.kernel.accessAllowed ? 'block' : 'none';\n",
              "\n",
              "        async function convertToInteractive(key) {\n",
              "          const element = document.querySelector('#df-ee44f981-2bab-497f-bb97-edf9c90151b3');\n",
              "          const dataTable =\n",
              "            await google.colab.kernel.invokeFunction('convertToInteractive',\n",
              "                                                     [key], {});\n",
              "          if (!dataTable) return;\n",
              "\n",
              "          const docLinkHtml = 'Like what you see? Visit the ' +\n",
              "            '<a target=\"_blank\" href=https://colab.research.google.com/notebooks/data_table.ipynb>data table notebook</a>'\n",
              "            + ' to learn more about interactive tables.';\n",
              "          element.innerHTML = '';\n",
              "          dataTable['output_type'] = 'display_data';\n",
              "          await google.colab.output.renderOutput(dataTable, element);\n",
              "          const docLink = document.createElement('div');\n",
              "          docLink.innerHTML = docLinkHtml;\n",
              "          element.appendChild(docLink);\n",
              "        }\n",
              "      </script>\n",
              "    </div>\n",
              "  </div>\n",
              "  "
            ]
          },
          "metadata": {},
          "execution_count": 25
        }
      ]
    },
    {
      "cell_type": "code",
      "source": [
        "final_df = pd.concat([categorical_df, outlier_df], axis=1)\n",
        "outliers_in_rows = []\n",
        "for index,row in outlier_df.iterrows():\n",
        "   outliers_in_rows.append(row.sum())\n",
        "\n",
        "print(len(outliers_in_rows))"
      ],
      "metadata": {
        "colab": {
          "base_uri": "https://localhost:8080/"
        },
        "id": "N6wluR6L-Qlk",
        "outputId": "93babc38-e03a-438f-beac-9fd0b4a5825f"
      },
      "execution_count": 26,
      "outputs": [
        {
          "output_type": "stream",
          "name": "stdout",
          "text": [
            "200\n"
          ]
        }
      ]
    },
    {
      "cell_type": "code",
      "source": [
        "#creating new column with the name value\n",
        "final_df['value'] = outliers_in_rows\n",
        "final_df_without_outliers= final_df.loc[final_df['value'] == 0]\n",
        "print(final_df_without_outliers.shape)"
      ],
      "metadata": {
        "colab": {
          "base_uri": "https://localhost:8080/"
        },
        "id": "x8pHGYyW-SWs",
        "outputId": "00580e31-b49a-489e-a58d-95fa8b39b348"
      },
      "execution_count": 27,
      "outputs": [
        {
          "output_type": "stream",
          "name": "stdout",
          "text": [
            "(183, 10)\n"
          ]
        }
      ]
    },
    {
      "cell_type": "code",
      "source": [
        "final_df_without_outliers.head()"
      ],
      "metadata": {
        "colab": {
          "base_uri": "https://localhost:8080/",
          "height": 206
        },
        "id": "wCHHvD33-Uew",
        "outputId": "c08ada35-4539-4580-8b0a-2a5ff55b21c5"
      },
      "execution_count": 28,
      "outputs": [
        {
          "output_type": "execute_result",
          "data": {
            "text/plain": [
              "  Followers Avg. Likes Posts New Post Avg. Likes Total Likes  \\\n",
              "0    485.2m       8.7m  3.4k                6.3m       29.1b   \n",
              "1    370.7m       8.2m  7.0k                5.0m       57.4b   \n",
              "2    363.9m       6.7m   915                3.5m        6.1b   \n",
              "3    348.8m       6.1m  1.9k                1.7m       11.4b   \n",
              "4    339.4m       1.8m  6.8k              932.0k       12.6b   \n",
              "\n",
              "  Country Or Region   Rank  Influence Score  60-Day Eng Rate  value  \n",
              "0             Spain  False            False            False      0  \n",
              "1     United States  False            False            False      0  \n",
              "2               NaN  False            False            False      0  \n",
              "3     United States  False            False            False      0  \n",
              "4     United States  False            False            False      0  "
            ],
            "text/html": [
              "\n",
              "  <div id=\"df-7ad3fd8f-925f-4ffd-b8ec-b8ee067e7354\">\n",
              "    <div class=\"colab-df-container\">\n",
              "      <div>\n",
              "<style scoped>\n",
              "    .dataframe tbody tr th:only-of-type {\n",
              "        vertical-align: middle;\n",
              "    }\n",
              "\n",
              "    .dataframe tbody tr th {\n",
              "        vertical-align: top;\n",
              "    }\n",
              "\n",
              "    .dataframe thead th {\n",
              "        text-align: right;\n",
              "    }\n",
              "</style>\n",
              "<table border=\"1\" class=\"dataframe\">\n",
              "  <thead>\n",
              "    <tr style=\"text-align: right;\">\n",
              "      <th></th>\n",
              "      <th>Followers</th>\n",
              "      <th>Avg. Likes</th>\n",
              "      <th>Posts</th>\n",
              "      <th>New Post Avg. Likes</th>\n",
              "      <th>Total Likes</th>\n",
              "      <th>Country Or Region</th>\n",
              "      <th>Rank</th>\n",
              "      <th>Influence Score</th>\n",
              "      <th>60-Day Eng Rate</th>\n",
              "      <th>value</th>\n",
              "    </tr>\n",
              "  </thead>\n",
              "  <tbody>\n",
              "    <tr>\n",
              "      <th>0</th>\n",
              "      <td>485.2m</td>\n",
              "      <td>8.7m</td>\n",
              "      <td>3.4k</td>\n",
              "      <td>6.3m</td>\n",
              "      <td>29.1b</td>\n",
              "      <td>Spain</td>\n",
              "      <td>False</td>\n",
              "      <td>False</td>\n",
              "      <td>False</td>\n",
              "      <td>0</td>\n",
              "    </tr>\n",
              "    <tr>\n",
              "      <th>1</th>\n",
              "      <td>370.7m</td>\n",
              "      <td>8.2m</td>\n",
              "      <td>7.0k</td>\n",
              "      <td>5.0m</td>\n",
              "      <td>57.4b</td>\n",
              "      <td>United States</td>\n",
              "      <td>False</td>\n",
              "      <td>False</td>\n",
              "      <td>False</td>\n",
              "      <td>0</td>\n",
              "    </tr>\n",
              "    <tr>\n",
              "      <th>2</th>\n",
              "      <td>363.9m</td>\n",
              "      <td>6.7m</td>\n",
              "      <td>915</td>\n",
              "      <td>3.5m</td>\n",
              "      <td>6.1b</td>\n",
              "      <td>NaN</td>\n",
              "      <td>False</td>\n",
              "      <td>False</td>\n",
              "      <td>False</td>\n",
              "      <td>0</td>\n",
              "    </tr>\n",
              "    <tr>\n",
              "      <th>3</th>\n",
              "      <td>348.8m</td>\n",
              "      <td>6.1m</td>\n",
              "      <td>1.9k</td>\n",
              "      <td>1.7m</td>\n",
              "      <td>11.4b</td>\n",
              "      <td>United States</td>\n",
              "      <td>False</td>\n",
              "      <td>False</td>\n",
              "      <td>False</td>\n",
              "      <td>0</td>\n",
              "    </tr>\n",
              "    <tr>\n",
              "      <th>4</th>\n",
              "      <td>339.4m</td>\n",
              "      <td>1.8m</td>\n",
              "      <td>6.8k</td>\n",
              "      <td>932.0k</td>\n",
              "      <td>12.6b</td>\n",
              "      <td>United States</td>\n",
              "      <td>False</td>\n",
              "      <td>False</td>\n",
              "      <td>False</td>\n",
              "      <td>0</td>\n",
              "    </tr>\n",
              "  </tbody>\n",
              "</table>\n",
              "</div>\n",
              "      <button class=\"colab-df-convert\" onclick=\"convertToInteractive('df-7ad3fd8f-925f-4ffd-b8ec-b8ee067e7354')\"\n",
              "              title=\"Convert this dataframe to an interactive table.\"\n",
              "              style=\"display:none;\">\n",
              "        \n",
              "  <svg xmlns=\"http://www.w3.org/2000/svg\" height=\"24px\"viewBox=\"0 0 24 24\"\n",
              "       width=\"24px\">\n",
              "    <path d=\"M0 0h24v24H0V0z\" fill=\"none\"/>\n",
              "    <path d=\"M18.56 5.44l.94 2.06.94-2.06 2.06-.94-2.06-.94-.94-2.06-.94 2.06-2.06.94zm-11 1L8.5 8.5l.94-2.06 2.06-.94-2.06-.94L8.5 2.5l-.94 2.06-2.06.94zm10 10l.94 2.06.94-2.06 2.06-.94-2.06-.94-.94-2.06-.94 2.06-2.06.94z\"/><path d=\"M17.41 7.96l-1.37-1.37c-.4-.4-.92-.59-1.43-.59-.52 0-1.04.2-1.43.59L10.3 9.45l-7.72 7.72c-.78.78-.78 2.05 0 2.83L4 21.41c.39.39.9.59 1.41.59.51 0 1.02-.2 1.41-.59l7.78-7.78 2.81-2.81c.8-.78.8-2.07 0-2.86zM5.41 20L4 18.59l7.72-7.72 1.47 1.35L5.41 20z\"/>\n",
              "  </svg>\n",
              "      </button>\n",
              "      \n",
              "  <style>\n",
              "    .colab-df-container {\n",
              "      display:flex;\n",
              "      flex-wrap:wrap;\n",
              "      gap: 12px;\n",
              "    }\n",
              "\n",
              "    .colab-df-convert {\n",
              "      background-color: #E8F0FE;\n",
              "      border: none;\n",
              "      border-radius: 50%;\n",
              "      cursor: pointer;\n",
              "      display: none;\n",
              "      fill: #1967D2;\n",
              "      height: 32px;\n",
              "      padding: 0 0 0 0;\n",
              "      width: 32px;\n",
              "    }\n",
              "\n",
              "    .colab-df-convert:hover {\n",
              "      background-color: #E2EBFA;\n",
              "      box-shadow: 0px 1px 2px rgba(60, 64, 67, 0.3), 0px 1px 3px 1px rgba(60, 64, 67, 0.15);\n",
              "      fill: #174EA6;\n",
              "    }\n",
              "\n",
              "    [theme=dark] .colab-df-convert {\n",
              "      background-color: #3B4455;\n",
              "      fill: #D2E3FC;\n",
              "    }\n",
              "\n",
              "    [theme=dark] .colab-df-convert:hover {\n",
              "      background-color: #434B5C;\n",
              "      box-shadow: 0px 1px 3px 1px rgba(0, 0, 0, 0.15);\n",
              "      filter: drop-shadow(0px 1px 2px rgba(0, 0, 0, 0.3));\n",
              "      fill: #FFFFFF;\n",
              "    }\n",
              "  </style>\n",
              "\n",
              "      <script>\n",
              "        const buttonEl =\n",
              "          document.querySelector('#df-7ad3fd8f-925f-4ffd-b8ec-b8ee067e7354 button.colab-df-convert');\n",
              "        buttonEl.style.display =\n",
              "          google.colab.kernel.accessAllowed ? 'block' : 'none';\n",
              "\n",
              "        async function convertToInteractive(key) {\n",
              "          const element = document.querySelector('#df-7ad3fd8f-925f-4ffd-b8ec-b8ee067e7354');\n",
              "          const dataTable =\n",
              "            await google.colab.kernel.invokeFunction('convertToInteractive',\n",
              "                                                     [key], {});\n",
              "          if (!dataTable) return;\n",
              "\n",
              "          const docLinkHtml = 'Like what you see? Visit the ' +\n",
              "            '<a target=\"_blank\" href=https://colab.research.google.com/notebooks/data_table.ipynb>data table notebook</a>'\n",
              "            + ' to learn more about interactive tables.';\n",
              "          element.innerHTML = '';\n",
              "          dataTable['output_type'] = 'display_data';\n",
              "          await google.colab.output.renderOutput(dataTable, element);\n",
              "          const docLink = document.createElement('div');\n",
              "          docLink.innerHTML = docLinkHtml;\n",
              "          element.appendChild(docLink);\n",
              "        }\n",
              "      </script>\n",
              "    </div>\n",
              "  </div>\n",
              "  "
            ]
          },
          "metadata": {},
          "execution_count": 28
        }
      ]
    },
    {
      "cell_type": "code",
      "source": [
        "final_df_outliers = final_df.loc[final_df['value'] != 0]\n",
        "arr = []\n",
        "for i,r in final_df_outliers.iterrows():\n",
        "   arr.append(i)\n",
        "df_without_outliers = dataset.drop(dataset.index[arr])"
      ],
      "metadata": {
        "id": "VAPUPw7I-W1L"
      },
      "execution_count": 30,
      "outputs": []
    },
    {
      "cell_type": "code",
      "source": [
        "df_without_outliers.head()"
      ],
      "metadata": {
        "colab": {
          "base_uri": "https://localhost:8080/",
          "height": 206
        },
        "id": "QX1Ty4Nm-ad5",
        "outputId": "6f75000f-0a3d-48cf-b2f5-176bd5c6a062"
      },
      "execution_count": 31,
      "outputs": [
        {
          "output_type": "execute_result",
          "data": {
            "text/plain": [
              "   Rank Channel Info  Influence Score Followers Avg. Likes Posts  \\\n",
              "0     1           35               92    485.2m       8.7m  3.4k   \n",
              "1     2          199               91    370.7m       8.2m  7.0k   \n",
              "2     3          101               90    363.9m       6.7m   915   \n",
              "3     4          158               93    348.8m       6.1m  1.9k   \n",
              "4     5          175               91    339.4m       1.8m  6.8k   \n",
              "\n",
              "   60-Day Eng Rate New Post Avg. Likes Total Likes Country Or Region  \n",
              "0            0.013                6.3m       29.1b             Spain  \n",
              "1            0.014                5.0m       57.4b     United States  \n",
              "2            0.010                3.5m        6.1b               NaN  \n",
              "3            0.005                1.7m       11.4b     United States  \n",
              "4            0.003              932.0k       12.6b     United States  "
            ],
            "text/html": [
              "\n",
              "  <div id=\"df-1244043c-7d78-45ce-8b9f-d807c1c225cb\">\n",
              "    <div class=\"colab-df-container\">\n",
              "      <div>\n",
              "<style scoped>\n",
              "    .dataframe tbody tr th:only-of-type {\n",
              "        vertical-align: middle;\n",
              "    }\n",
              "\n",
              "    .dataframe tbody tr th {\n",
              "        vertical-align: top;\n",
              "    }\n",
              "\n",
              "    .dataframe thead th {\n",
              "        text-align: right;\n",
              "    }\n",
              "</style>\n",
              "<table border=\"1\" class=\"dataframe\">\n",
              "  <thead>\n",
              "    <tr style=\"text-align: right;\">\n",
              "      <th></th>\n",
              "      <th>Rank</th>\n",
              "      <th>Channel Info</th>\n",
              "      <th>Influence Score</th>\n",
              "      <th>Followers</th>\n",
              "      <th>Avg. Likes</th>\n",
              "      <th>Posts</th>\n",
              "      <th>60-Day Eng Rate</th>\n",
              "      <th>New Post Avg. Likes</th>\n",
              "      <th>Total Likes</th>\n",
              "      <th>Country Or Region</th>\n",
              "    </tr>\n",
              "  </thead>\n",
              "  <tbody>\n",
              "    <tr>\n",
              "      <th>0</th>\n",
              "      <td>1</td>\n",
              "      <td>35</td>\n",
              "      <td>92</td>\n",
              "      <td>485.2m</td>\n",
              "      <td>8.7m</td>\n",
              "      <td>3.4k</td>\n",
              "      <td>0.013</td>\n",
              "      <td>6.3m</td>\n",
              "      <td>29.1b</td>\n",
              "      <td>Spain</td>\n",
              "    </tr>\n",
              "    <tr>\n",
              "      <th>1</th>\n",
              "      <td>2</td>\n",
              "      <td>199</td>\n",
              "      <td>91</td>\n",
              "      <td>370.7m</td>\n",
              "      <td>8.2m</td>\n",
              "      <td>7.0k</td>\n",
              "      <td>0.014</td>\n",
              "      <td>5.0m</td>\n",
              "      <td>57.4b</td>\n",
              "      <td>United States</td>\n",
              "    </tr>\n",
              "    <tr>\n",
              "      <th>2</th>\n",
              "      <td>3</td>\n",
              "      <td>101</td>\n",
              "      <td>90</td>\n",
              "      <td>363.9m</td>\n",
              "      <td>6.7m</td>\n",
              "      <td>915</td>\n",
              "      <td>0.010</td>\n",
              "      <td>3.5m</td>\n",
              "      <td>6.1b</td>\n",
              "      <td>NaN</td>\n",
              "    </tr>\n",
              "    <tr>\n",
              "      <th>3</th>\n",
              "      <td>4</td>\n",
              "      <td>158</td>\n",
              "      <td>93</td>\n",
              "      <td>348.8m</td>\n",
              "      <td>6.1m</td>\n",
              "      <td>1.9k</td>\n",
              "      <td>0.005</td>\n",
              "      <td>1.7m</td>\n",
              "      <td>11.4b</td>\n",
              "      <td>United States</td>\n",
              "    </tr>\n",
              "    <tr>\n",
              "      <th>4</th>\n",
              "      <td>5</td>\n",
              "      <td>175</td>\n",
              "      <td>91</td>\n",
              "      <td>339.4m</td>\n",
              "      <td>1.8m</td>\n",
              "      <td>6.8k</td>\n",
              "      <td>0.003</td>\n",
              "      <td>932.0k</td>\n",
              "      <td>12.6b</td>\n",
              "      <td>United States</td>\n",
              "    </tr>\n",
              "  </tbody>\n",
              "</table>\n",
              "</div>\n",
              "      <button class=\"colab-df-convert\" onclick=\"convertToInteractive('df-1244043c-7d78-45ce-8b9f-d807c1c225cb')\"\n",
              "              title=\"Convert this dataframe to an interactive table.\"\n",
              "              style=\"display:none;\">\n",
              "        \n",
              "  <svg xmlns=\"http://www.w3.org/2000/svg\" height=\"24px\"viewBox=\"0 0 24 24\"\n",
              "       width=\"24px\">\n",
              "    <path d=\"M0 0h24v24H0V0z\" fill=\"none\"/>\n",
              "    <path d=\"M18.56 5.44l.94 2.06.94-2.06 2.06-.94-2.06-.94-.94-2.06-.94 2.06-2.06.94zm-11 1L8.5 8.5l.94-2.06 2.06-.94-2.06-.94L8.5 2.5l-.94 2.06-2.06.94zm10 10l.94 2.06.94-2.06 2.06-.94-2.06-.94-.94-2.06-.94 2.06-2.06.94z\"/><path d=\"M17.41 7.96l-1.37-1.37c-.4-.4-.92-.59-1.43-.59-.52 0-1.04.2-1.43.59L10.3 9.45l-7.72 7.72c-.78.78-.78 2.05 0 2.83L4 21.41c.39.39.9.59 1.41.59.51 0 1.02-.2 1.41-.59l7.78-7.78 2.81-2.81c.8-.78.8-2.07 0-2.86zM5.41 20L4 18.59l7.72-7.72 1.47 1.35L5.41 20z\"/>\n",
              "  </svg>\n",
              "      </button>\n",
              "      \n",
              "  <style>\n",
              "    .colab-df-container {\n",
              "      display:flex;\n",
              "      flex-wrap:wrap;\n",
              "      gap: 12px;\n",
              "    }\n",
              "\n",
              "    .colab-df-convert {\n",
              "      background-color: #E8F0FE;\n",
              "      border: none;\n",
              "      border-radius: 50%;\n",
              "      cursor: pointer;\n",
              "      display: none;\n",
              "      fill: #1967D2;\n",
              "      height: 32px;\n",
              "      padding: 0 0 0 0;\n",
              "      width: 32px;\n",
              "    }\n",
              "\n",
              "    .colab-df-convert:hover {\n",
              "      background-color: #E2EBFA;\n",
              "      box-shadow: 0px 1px 2px rgba(60, 64, 67, 0.3), 0px 1px 3px 1px rgba(60, 64, 67, 0.15);\n",
              "      fill: #174EA6;\n",
              "    }\n",
              "\n",
              "    [theme=dark] .colab-df-convert {\n",
              "      background-color: #3B4455;\n",
              "      fill: #D2E3FC;\n",
              "    }\n",
              "\n",
              "    [theme=dark] .colab-df-convert:hover {\n",
              "      background-color: #434B5C;\n",
              "      box-shadow: 0px 1px 3px 1px rgba(0, 0, 0, 0.15);\n",
              "      filter: drop-shadow(0px 1px 2px rgba(0, 0, 0, 0.3));\n",
              "      fill: #FFFFFF;\n",
              "    }\n",
              "  </style>\n",
              "\n",
              "      <script>\n",
              "        const buttonEl =\n",
              "          document.querySelector('#df-1244043c-7d78-45ce-8b9f-d807c1c225cb button.colab-df-convert');\n",
              "        buttonEl.style.display =\n",
              "          google.colab.kernel.accessAllowed ? 'block' : 'none';\n",
              "\n",
              "        async function convertToInteractive(key) {\n",
              "          const element = document.querySelector('#df-1244043c-7d78-45ce-8b9f-d807c1c225cb');\n",
              "          const dataTable =\n",
              "            await google.colab.kernel.invokeFunction('convertToInteractive',\n",
              "                                                     [key], {});\n",
              "          if (!dataTable) return;\n",
              "\n",
              "          const docLinkHtml = 'Like what you see? Visit the ' +\n",
              "            '<a target=\"_blank\" href=https://colab.research.google.com/notebooks/data_table.ipynb>data table notebook</a>'\n",
              "            + ' to learn more about interactive tables.';\n",
              "          element.innerHTML = '';\n",
              "          dataTable['output_type'] = 'display_data';\n",
              "          await google.colab.output.renderOutput(dataTable, element);\n",
              "          const docLink = document.createElement('div');\n",
              "          docLink.innerHTML = docLinkHtml;\n",
              "          element.appendChild(docLink);\n",
              "        }\n",
              "      </script>\n",
              "    </div>\n",
              "  </div>\n",
              "  "
            ]
          },
          "metadata": {},
          "execution_count": 31
        }
      ]
    },
    {
      "cell_type": "code",
      "source": [
        "total_missing_values = df_without_outliers.isnull().sum()\n",
        "missing_values_per_column = df_without_outliers.isnull().sum()/df_without_outliers.isnull().count()\n",
        "null_values = pd.concat([total_missing_values, missing_values_per_column], axis=1, keys=['total_null', 'total_null_perc'])\n",
        "null_values = null_values.sort_values('total_null', ascending=False)\n",
        "print(null_values)"
      ],
      "metadata": {
        "colab": {
          "base_uri": "https://localhost:8080/"
        },
        "id": "CMrQewmh-gne",
        "outputId": "68121f09-9ebc-4fe9-dedf-8e6d22215f30"
      },
      "execution_count": 32,
      "outputs": [
        {
          "output_type": "stream",
          "name": "stdout",
          "text": [
            "                     total_null  total_null_perc\n",
            "Country Or Region            54         0.295082\n",
            "Rank                          0         0.000000\n",
            "Channel Info                  0         0.000000\n",
            "Influence Score               0         0.000000\n",
            "Followers                     0         0.000000\n",
            "Avg. Likes                    0         0.000000\n",
            "Posts                         0         0.000000\n",
            "60-Day Eng Rate               0         0.000000\n",
            "New Post Avg. Likes           0         0.000000\n",
            "Total Likes                   0         0.000000\n"
          ]
        }
      ]
    },
    {
      "cell_type": "code",
      "source": [
        "NA_val = df_without_outliers.isna().sum();\n",
        "def na_filter(na, threshold = .4): #only select variables that passees the threshold\n",
        "    col_pass = []\n",
        "    for i in na.keys():\n",
        "        if na[i]/df_without_outliers.shape[0] < threshold:\n",
        "            col_pass.append(i)\n",
        "    return col_pass\n",
        "df_cleaned = df_without_outliers[na_filter(NA_val)]\n",
        "print(df_cleaned.columns)"
      ],
      "metadata": {
        "colab": {
          "base_uri": "https://localhost:8080/"
        },
        "id": "Zd5bfrra-iJA",
        "outputId": "4d7e0606-3ff9-4eba-ce44-1622f01eb69f"
      },
      "execution_count": 33,
      "outputs": [
        {
          "output_type": "stream",
          "name": "stdout",
          "text": [
            "Index(['Rank', 'Channel Info', 'Influence Score', 'Followers', 'Avg. Likes',\n",
            "       'Posts', '60-Day Eng Rate', 'New Post Avg. Likes', 'Total Likes',\n",
            "       'Country Or Region'],\n",
            "      dtype='object')\n"
          ]
        }
      ]
    },
    {
      "cell_type": "code",
      "source": [
        "print(len(df_without_outliers.columns),len(df_cleaned.columns))"
      ],
      "metadata": {
        "colab": {
          "base_uri": "https://localhost:8080/"
        },
        "id": "4V6-7A_1-lfE",
        "outputId": "f5a9e165-f286-497a-827b-24229aaabf94"
      },
      "execution_count": 34,
      "outputs": [
        {
          "output_type": "stream",
          "name": "stdout",
          "text": [
            "10 10\n"
          ]
        }
      ]
    },
    {
      "cell_type": "code",
      "source": [
        "print(df_cleaned.isnull().sum())"
      ],
      "metadata": {
        "colab": {
          "base_uri": "https://localhost:8080/"
        },
        "id": "8MKQP4Oz-nIU",
        "outputId": "57ec1dfe-c289-4df8-bf14-88f81ecfc9e3"
      },
      "execution_count": 37,
      "outputs": [
        {
          "output_type": "stream",
          "name": "stdout",
          "text": [
            "Rank                    0\n",
            "Channel Info            0\n",
            "Influence Score         0\n",
            "Followers               0\n",
            "Avg. Likes              0\n",
            "Posts                   0\n",
            "60-Day Eng Rate         0\n",
            "New Post Avg. Likes     0\n",
            "Total Likes             0\n",
            "Country Or Region      54\n",
            "dtype: int64\n"
          ]
        }
      ]
    },
    {
      "cell_type": "code",
      "source": [
        "df_cleaned=df_cleaned.dropna().reset_index()"
      ],
      "metadata": {
        "id": "7LEaJnSS-ssT"
      },
      "execution_count": 38,
      "outputs": []
    },
    {
      "cell_type": "code",
      "source": [
        "sns.heatmap(df_cleaned.isnull());"
      ],
      "metadata": {
        "colab": {
          "base_uri": "https://localhost:8080/",
          "height": 358
        },
        "id": "M7weDejt-5ZR",
        "outputId": "325a7681-c34e-415a-e04e-0f87378af16a"
      },
      "execution_count": 39,
      "outputs": [
        {
          "output_type": "display_data",
          "data": {
            "text/plain": [
              "<Figure size 432x288 with 2 Axes>"
            ],
            "image/png": "[encoded data removed]"
          },
          "metadata": {
            "needs_background": "light"
          }
        }
      ]
    },
    {
      "cell_type": "code",
      "source": [
        "#Find the attributes with the highest correlation coefficient.\n",
        "dataCorr = df_cleaned.corr()\n",
        "plt.figure(figsize=(8,8))\n",
        "plt.title('Correlation Matrix', fontsize=\"xx-large\")\n",
        "sns.heatmap(dataCorr, annot=True, fmt='.2f', square=True, cmap = 'PuBu')\n",
        "plt.show()"
      ],
      "metadata": {
        "colab": {
          "base_uri": "https://localhost:8080/",
          "height": 470
        },
        "id": "1dzu71DG-76E",
        "outputId": "bf123e28-78fa-4adc-bb8b-7f7026b8e782"
      },
      "execution_count": 40,
      "outputs": [
        {
          "output_type": "display_data",
          "data": {
            "text/plain": [
              "<Figure size 576x576 with 2 Axes>"
            ],
            "image/png": "[encoded data removed]"
          },
          "metadata": {
            "needs_background": "light"
          }
        }
      ]
    },
    {
      "cell_type": "code",
      "source": [
        "#VISUALISING THE DATA"
      ],
      "metadata": {
        "id": "n7dxbtmS-_GF"
      },
      "execution_count": 43,
      "outputs": []
    },
    {
      "cell_type": "code",
      "source": [
        "#Pie chart of the no of followers\n",
        "df_cleaned['Followers'].value_counts().plot(kind='pie')"
      ],
      "metadata": {
        "colab": {
          "base_uri": "https://localhost:8080/",
          "height": 266
        },
        "id": "VM_GWQ-3_JGx",
        "outputId": "342ccca3-56ae-4a52-818e-fcafe2c6cf47"
      },
      "execution_count": 45,
      "outputs": [
        {
          "output_type": "execute_result",
          "data": {
            "text/plain": [
              "<matplotlib.axes._subplots.AxesSubplot at 0x7f7bd7d1a250>"
            ]
          },
          "metadata": {},
          "execution_count": 45
        },
        {
          "output_type": "display_data",
          "data": {
            "text/plain": [
              "<Figure size 432x288 with 1 Axes>"
            ],
            "image/png": "[encoded data removed]"
          },
          "metadata": {}
        }
      ]
    },
    {
      "cell_type": "code",
      "source": [
        "#Pie chart of the influence score\n",
        "df_cleaned['Influence Score'].value_counts().plot(kind='pie')"
      ],
      "metadata": {
        "colab": {
          "base_uri": "https://localhost:8080/",
          "height": 266
        },
        "id": "xrXsd55D_kSa",
        "outputId": "7c27e606-0211-4114-c4a2-75a942326d82"
      },
      "execution_count": 47,
      "outputs": [
        {
          "output_type": "execute_result",
          "data": {
            "text/plain": [
              "<matplotlib.axes._subplots.AxesSubplot at 0x7f7bd7d09e50>"
            ]
          },
          "metadata": {},
          "execution_count": 47
        },
        {
          "output_type": "display_data",
          "data": {
            "text/plain": [
              "<Figure size 432x288 with 1 Axes>"
            ],
            "image/png": "[encoded data removed]"
          },
          "metadata": {}
        }
      ]
    },
    {
      "cell_type": "code",
      "source": [
        "#Lineplot\n",
        "sns.lineplot(x=\"Influence Score\", y=\"Rank\", data=df_cleaned)"
      ],
      "metadata": {
        "colab": {
          "base_uri": "https://localhost:8080/",
          "height": 299
        },
        "id": "XjDlyGEcAQqU",
        "outputId": "6d8410cf-2454-43fd-e69c-16860a0de0e5"
      },
      "execution_count": 49,
      "outputs": [
        {
          "output_type": "execute_result",
          "data": {
            "text/plain": [
              "<matplotlib.axes._subplots.AxesSubplot at 0x7f7bd7f6b550>"
            ]
          },
          "metadata": {},
          "execution_count": 49
        },
        {
          "output_type": "display_data",
          "data": {
            "text/plain": [
              "<Figure size 432x288 with 1 Axes>"
            ],
            "image/png": "[encoded data removed]"
          },
          "metadata": {
            "needs_background": "light"
          }
        }
      ]
    },
    {
      "cell_type": "code",
      "source": [
        "#Barplot \n",
        "df_cleaned['Influence Score'].value_counts().plot(kind='bar')"
      ],
      "metadata": {
        "colab": {
          "base_uri": "https://localhost:8080/",
          "height": 286
        },
        "id": "ueDgLIZ8AgQ1",
        "outputId": "498bf95c-92af-4957-9b30-b25906dba617"
      },
      "execution_count": 50,
      "outputs": [
        {
          "output_type": "execute_result",
          "data": {
            "text/plain": [
              "<matplotlib.axes._subplots.AxesSubplot at 0x7f7bd802de10>"
            ]
          },
          "metadata": {},
          "execution_count": 50
        },
        {
          "output_type": "display_data",
          "data": {
            "text/plain": [
              "<Figure size 432x288 with 1 Axes>"
            ],
            "image/png": "[encoded data removed]"
          },
          "metadata": {
            "needs_background": "light"
          }
        }
      ]
    },
    {
      "cell_type": "code",
      "source": [
        "#Distplot \n",
        "sns.distplot(df_cleaned['Rank'])"
      ],
      "metadata": {
        "colab": {
          "base_uri": "https://localhost:8080/",
          "height": 353
        },
        "id": "pQDf6mpUAv0B",
        "outputId": "24e6becb-aead-474f-d2e4-d8d25f8f0df3"
      },
      "execution_count": 51,
      "outputs": [
        {
          "output_type": "stream",
          "name": "stderr",
          "text": [
            "/usr/local/lib/python3.7/dist-packages/seaborn/distributions.py:2619: FutureWarning: `distplot` is a deprecated function and will be removed in a future version. Please adapt your code to use either `displot` (a figure-level function with similar flexibility) or `histplot` (an axes-level function for histograms).\n",
            "  warnings.warn(msg, FutureWarning)\n"
          ]
        },
        {
          "output_type": "execute_result",
          "data": {
            "text/plain": [
              "<matplotlib.axes._subplots.AxesSubplot at 0x7f7bdb1bc490>"
            ]
          },
          "metadata": {},
          "execution_count": 51
        },
        {
          "output_type": "display_data",
          "data": {
            "text/plain": [
              "<Figure size 432x288 with 1 Axes>"
            ],
            "image/png": "[encoded data removed]"
          },
          "metadata": {
            "needs_background": "light"
          }
        }
      ]
    },
    {
      "cell_type": "code",
      "source": [],
      "metadata": {
        "id": "lhloU7qeA3Fv"
      },
      "execution_count": null,
      "outputs": []
    }
  ]
}