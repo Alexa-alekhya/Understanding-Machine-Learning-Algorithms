{
 "cells": [
  {
   "cell_type": "code",
   "execution_count": 1,
   "id": "45ff7fb6",
   "metadata": {},
   "outputs": [
    {
     "name": "stdout",
     "output_type": "stream",
     "text": [
      "Hello World!\n"
     ]
    }
   ],
   "source": [
    "print(\"Hello World!\")"
   ]
  },
  {
   "cell_type": "code",
   "execution_count": 5,
   "id": "3b0ba398",
   "metadata": {},
   "outputs": [
    {
     "name": "stdout",
     "output_type": "stream",
     "text": [
      "800\n"
     ]
    }
   ],
   "source": [
    "flycost=5000\n",
    "cost=200\n",
    "people=29\n",
    "profit=(cost*people)-flycost\n",
    "print(profit)"
   ]
  },
  {
   "cell_type": "code",
   "execution_count": 13,
   "id": "b6dc362e",
   "metadata": {},
   "outputs": [
    {
     "name": "stdout",
     "output_type": "stream",
     "text": [
      "Enter your number: 5\n",
      "Not divisble by 2 or 3 or 6\n"
     ]
    }
   ],
   "source": [
    "number=int(input(\"Enter your number: \"))\n",
    "if number %2 ==0 and number%3==0:\n",
    "    print(\"Divisible by 6\")\n",
    "elif number%2==0:\n",
    "    print(\"Divisible by 2\")\n",
    "elif number%3==0:\n",
    "    print(\"Divisible by 3\")\n",
    "else:\n",
    "    print(\"Not divisble by 2 or 3 or 6\")\n",
    "    "
   ]
  },
  {
   "cell_type": "code",
   "execution_count": 19,
   "id": "3fb1c387",
   "metadata": {},
   "outputs": [
    {
     "name": "stdout",
     "output_type": "stream",
     "text": [
      "Enter the input alphabet series: ANTIESTABLISHMENTARIANISTICALLY\n",
      "Count is:  12\n"
     ]
    }
   ],
   "source": [
    "text=input(\"Enter the input alphabet series: \")\n",
    "count=0\n",
    "for i in text:\n",
    "    if i=='A' or i=='E' or i=='I' or i=='O' or i=='U':\n",
    "        count=count+1\n",
    "print(\"Count is: \",count)"
   ]
  },
  {
   "cell_type": "code",
   "execution_count": 20,
   "id": "0489f7ee",
   "metadata": {},
   "outputs": [
    {
     "name": "stdout",
     "output_type": "stream",
     "text": [
      "Enter the input alphabet series: ANTIESTABLISHMENTARIANISTICALLY\n",
      "Count is:  12\n"
     ]
    }
   ],
   "source": [
    "#a little better way to count the no of vowels, using a list and if condition\n",
    "text=input(\"Enter the input alphabet series: \")\n",
    "vowels=['A','E','I','O','U']\n",
    "count=0\n",
    "for i in text:\n",
    "    if i in vowels:\n",
    "        count=count+1\n",
    "print(\"Count is: \",count)"
   ]
  },
  {
   "cell_type": "code",
   "execution_count": 31,
   "id": "c60db044",
   "metadata": {},
   "outputs": [
    {
     "name": "stdout",
     "output_type": "stream",
     "text": [
      "Smallest element in fruits is apple\n"
     ]
    }
   ],
   "source": [
    "#fruits\n",
    "fruits = [\"apple\", \"banana\", \"cherry\"]\n",
    "#iterate over the list and find the name of the fruit which has the smallest word length\n",
    "minlen=fruits[0]\n",
    "for i in range(len(fruits)):\n",
    "    wordlen=len(fruits[i])\n",
    "    if fruits[i]<minlen:\n",
    "        minlen=fruits[i]\n",
    "        \n",
    "print(\"Smallest element in fruits is\",minlen)"
   ]
  },
  {
   "cell_type": "code",
   "execution_count": 26,
   "id": "8c56886f",
   "metadata": {},
   "outputs": [
    {
     "name": "stdout",
     "output_type": "stream",
     "text": [
      "apple\n",
      "banana\n",
      "cherry\n",
      "Potato\n",
      "Length of the list is 4\n",
      "\n",
      "\n",
      "After deletion, Now list is:\n",
      "apple\n",
      "cherry\n",
      "Potato\n",
      "\n",
      "\n",
      "After insertion of name, Now list is:\n",
      "apple\n",
      "cherry\n",
      "Potato\n",
      "Alekhya\n",
      "\n",
      "\n",
      "['Alekhya', 'Potato', 'apple', 'cherry']\n"
     ]
    }
   ],
   "source": [
    "#fruits\n",
    "fruits = [\"apple\", \"banana\", \"cherry\"]\n",
    "#iterate over the list and find the name of the fruit which has the smallest word length\n",
    "# append a vegetable to your existing list\n",
    "fruits.append(\"Potato\")\n",
    "for i in fruits:\n",
    "    print(i)\n",
    "# find the size of your list\n",
    "print(\"Length of the list is\",len(fruits))\n",
    "print(\"\\n\")\n",
    "# add enough fruits such that your list size if greater that 4\n",
    "if len(fruits)<4:\n",
    "    print(\"The list size is lesser than 4\")\n",
    "    fruits.append(\"Carrot\")\n",
    "    print(\"Now list is:\")\n",
    "    for i in fruits:\n",
    "        print(i)\n",
    "#delete the 2nd fruit(1st index) from your list:\n",
    "del fruits[1]\n",
    "print(\"After deletion, Now list is:\")\n",
    "for i in fruits:\n",
    "    print(i)\n",
    "\n",
    "# add your name in the 4th position of the list (3rd index)\n",
    "fruits.insert(3,\"Alekhya\")\n",
    "print(\"\\n\")\n",
    "print(\"After insertion of name, Now list is:\")\n",
    "for i in fruits:\n",
    "    print(i)\n",
    "\n",
    "print(\"\\n\")\n",
    "fruits.sort() #doesnt return anything -  used for lists\n",
    "print(fruits) #sorted list is printed"
   ]
  },
  {
   "cell_type": "code",
   "execution_count": 59,
   "id": "fdd4c8d3",
   "metadata": {},
   "outputs": [],
   "source": [
    "#Tuples"
   ]
  },
  {
   "cell_type": "code",
   "execution_count": 12,
   "id": "b9b92fef",
   "metadata": {},
   "outputs": [
    {
     "name": "stdout",
     "output_type": "stream",
     "text": [
      "Will\n",
      "Jem\n",
      "James\n",
      "Matthew\n",
      "Magnus\n",
      "\n",
      "\n",
      "<class 'str'>\n",
      "<class 'str'>\n",
      "<class 'str'>\n",
      "<class 'str'>\n",
      "<class 'str'>\n",
      "\n",
      "\n",
      "Magnus\n",
      "\n",
      "\n",
      "('Matthew', 'Magnus')\n",
      "('Will', 'Jem', 'James')\n",
      "\n",
      "\n",
      "Sorted order is:\n",
      "['James', 'Jem', 'Magnus', 'Matthew', 'Will']\n"
     ]
    }
   ],
   "source": [
    "#create a tuple and print its elements \n",
    "haha=(\"Will\",\"Jem\",\"James\",\"Matthew\",\"Magnus\")\n",
    "for i in haha:\n",
    "    print(i)\n",
    "#print the type of each value in the tuple\n",
    "print(\"\\n\")\n",
    "for i in haha:\n",
    "    print(type(i))\n",
    "#try to change the second value in your tuple to \"Caterpillar\" - gives an error:\n",
    "#'tuple' object does not support item assignment\n",
    "\n",
    "print(\"\\n\")\n",
    "# print the last element of the tuple without using the length of the tuple\n",
    "\n",
    "print(haha[-1]) #-1 is the index for the last element\n",
    "print(\"\\n\")\n",
    "print(haha[-2:])\n",
    "print(haha[:3])\n",
    "print(\"\\n\")\n",
    "\n",
    "#sort vs sorted function: find the difference in the form of a program:\n",
    "\n",
    "#sort return nothing and makes changes to the original sequence - used for lists\n",
    "#sorted returns a new seqeunce of the ordered sequence of the input - used for tuples\n",
    "print(\"Sorted order is:\")\n",
    "k=sorted(haha)\n",
    "print(k)"
   ]
  },
  {
   "cell_type": "code",
   "execution_count": 14,
   "id": "6fec3cae",
   "metadata": {},
   "outputs": [
    {
     "name": "stdout",
     "output_type": "stream",
     "text": [
      "{'apple', 'banana', 'cherry'}\n"
     ]
    }
   ],
   "source": [
    "thisset = {\"apple\", \"banana\", \"cherry\",\"apple\"}\n",
    "print(thisset)"
   ]
  },
  {
   "cell_type": "code",
   "execution_count": 2,
   "id": "6792355d",
   "metadata": {},
   "outputs": [
    {
     "name": "stdout",
     "output_type": "stream",
     "text": [
      "We need to add 12 more words\n",
      "{'ffs', 'happyhours', 'macha', 'anime', 'candid', 'bob', 'rofl', 'lol', 'ootd', 'sweet16', 'asap', 'fun'}\n"
     ]
    }
   ],
   "source": [
    "#Ana on her meta journey\n",
    "str=\"rofl lol macha bob ootd asap fun sweet16 ffs lol asap ootd ffs macha rofl bob ootd fun candid anime happyhours bob fun happyhours\"\n",
    "nlist=str.split(\" \")\n",
    "nset=set(nlist)\n",
    "count=0\n",
    "for i in nset:\n",
    "    count=count+1\n",
    "print(\"We need to add\",count,\"more words\")\n",
    "print(nset)"
   ]
  },
  {
   "cell_type": "code",
   "execution_count": 21,
   "id": "2e1687f8",
   "metadata": {},
   "outputs": [
    {
     "name": "stdout",
     "output_type": "stream",
     "text": [
      "The dictionary is: {1: 5, 2: 4, 3: 3, 4: 3, 5: 2}\n"
     ]
    }
   ],
   "source": [
    "# Python program to count the frequency of\n",
    "# elements in a list using a dictionary\n",
    " \n",
    "def CountFrequency(my_list):\n",
    " \n",
    "    # Creating an empty dictionary\n",
    "    freq = {}\n",
    "    nset=set(my_list)\n",
    "    #print(nset)\n",
    "    for i in nset:\n",
    "        count=0\n",
    "        for j in my_list:\n",
    "            if i == j:\n",
    "                count=count+1\n",
    "        freq[i]=count\n",
    "    print(\"The dictionary is:\",freq)\n",
    "    \n",
    "# Driver function\n",
    "if __name__ == \"__main__\":\n",
    "    my_list =[1, 1, 1, 5, 5, 3, 1, 3, 3, 1, 4, 4, 4, 2, 2, 2, 2]\n",
    " \n",
    "    CountFrequency(my_list)"
   ]
  },
  {
   "cell_type": "code",
   "execution_count": null,
   "id": "ad9336a1",
   "metadata": {},
   "outputs": [],
   "source": []
  }
 ],
 "metadata": {
  "kernelspec": {
   "display_name": "Python 3 (ipykernel)",
   "language": "python",
   "name": "python3"
  },
  "language_info": {
   "codemirror_mode": {
    "name": "ipython",
    "version": 3
   },
   "file_extension": ".py",
   "mimetype": "text/x-python",
   "name": "python",
   "nbconvert_exporter": "python",
   "pygments_lexer": "ipython3",
   "version": "3.9.12"
  }
 },
 "nbformat": 4,
 "nbformat_minor": 5
}
